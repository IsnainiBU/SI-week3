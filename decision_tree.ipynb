{
 "cells": [
  {
   "cell_type": "code",
   "execution_count": 3,
   "id": "c898fbab-118e-4197-a3c9-1e7338fb8bf4",
   "metadata": {},
   "outputs": [
    {
     "name": "stdout",
     "output_type": "stream",
     "text": [
      "Data dari Excel:\n",
      "   No  Cuaca  Suhu Bermain di Luar\n",
      "0   1  Sunny   Hot           Tidak\n",
      "1   2  Rainy  Cool              Ya\n",
      "2   3  Sunny   Hot           Tidak\n",
      "3   4  Rainy   Hot              Ya\n",
      "4   5  Sunny  Cool              Ya\n",
      "5   6  Sunny   Hot           Tidak\n",
      "6   7  Rainy  Cool              Ya\n",
      "7   8  Rainy   Hot              Ya\n",
      "8   9  Sunny  Cool              Ya\n",
      "9  10  Rainy  Cool              Ya\n"
     ]
    }
   ],
   "source": [
    "import pandas as pd\n",
    "\n",
    "# Membaca data dari file Excel\n",
    "data = pd.read_excel('decision_tree.xlsx')\n",
    "\n",
    "# Menampilkan data yang telah dibaca\n",
    "print(\"Data dari Excel:\")\n",
    "print(data)\n"
   ]
  },
  {
   "cell_type": "code",
   "execution_count": 4,
   "id": "9ec1f5a1-4405-46b7-bbb2-96b3d765e080",
   "metadata": {},
   "outputs": [
    {
     "name": "stdout",
     "output_type": "stream",
     "text": [
      "Entropi (Bermain di Luar): 0.8812908992306927\n"
     ]
    }
   ],
   "source": [
    "import numpy as np\n",
    "\n",
    "# Fungsi untuk menghitung entropi\n",
    "def entropy(probs):\n",
    "    return -sum([p * np.log2(p) for p in probs if p > 0])\n",
    "\n",
    "# Fungsi untuk menghitung entropi dari target\n",
    "def target_entropy(data, target_column):\n",
    "    target_values = data[target_column].value_counts(normalize=True)\n",
    "    return entropy(target_values)\n",
    "\n",
    "# Menghitung entropi target (Bermain di Luar)\n",
    "target_ent = target_entropy(data, 'Bermain di Luar')\n",
    "print(f\"Entropi (Bermain di Luar): {target_ent}\")\n"
   ]
  },
  {
   "cell_type": "code",
   "execution_count": 5,
   "id": "22720818-2cb9-4526-b074-7ed2bfc662d6",
   "metadata": {},
   "outputs": [
    {
     "name": "stdout",
     "output_type": "stream",
     "text": [
      "Entropi (Cuaca): 0.4854752972273343\n"
     ]
    }
   ],
   "source": [
    "# Fungsi untuk menghitung entropi berdasarkan fitur\n",
    "def feature_entropy(data, feature_column, target_column):\n",
    "    feature_values = data[feature_column].unique()\n",
    "    total_entropy = 0\n",
    "\n",
    "    for value in feature_values:\n",
    "        subset = data[data[feature_column] == value]\n",
    "        target_values = subset[target_column].value_counts(normalize=True)\n",
    "        subset_entropy = entropy(target_values)\n",
    "        total_entropy += len(subset) / len(data) * subset_entropy\n",
    "\n",
    "    return total_entropy\n",
    "\n",
    "# Menghitung entropi berdasarkan fitur Cuaca\n",
    "weather_ent = feature_entropy(data, 'Cuaca', 'Bermain di Luar')\n",
    "print(f\"Entropi (Cuaca): {weather_ent}\")\n"
   ]
  },
  {
   "cell_type": "code",
   "execution_count": 6,
   "id": "a95e38b7-2fa6-43ef-8f6f-3a1aa9648fd1",
   "metadata": {},
   "outputs": [
    {
     "name": "stdout",
     "output_type": "stream",
     "text": [
      "Entropi (Suhu): 0.4854752972273343\n"
     ]
    }
   ],
   "source": [
    "# Menghitung entropi berdasarkan fitur Suhu\n",
    "temp_ent = feature_entropy(data, 'Suhu', 'Bermain di Luar')\n",
    "print(f\"Entropi (Suhu): {temp_ent}\")\n"
   ]
  },
  {
   "cell_type": "code",
   "execution_count": 9,
   "id": "3b458343-3539-468c-975e-2c8cb2d35e53",
   "metadata": {},
   "outputs": [
    {
     "name": "stdout",
     "output_type": "stream",
     "text": [
      "Gain (Cuaca): 0.3958156020033584\n",
      "Gain (Suhu): 0.3958156020033584\n"
     ]
    }
   ],
   "source": [
    "# Menghitung Gain informasi\n",
    "gain_weather = target_ent - weather_ent\n",
    "gain_temp = target_ent - temp_ent\n",
    "\n",
    "print(f\"Gain (Cuaca): {gain_weather}\")\n",
    "print(f\"Gain (Suhu): {gain_temp}\")\n"
   ]
  },
  {
   "cell_type": "code",
   "execution_count": 10,
   "id": "b49057ef-3ea4-462d-bc7b-bf5bad3b2468",
   "metadata": {},
   "outputs": [
    {
     "name": "stdout",
     "output_type": "stream",
     "text": [
      "Fitur root adalah Suhu\n"
     ]
    }
   ],
   "source": [
    "# Memilih fitur dengan Gain tertinggi\n",
    "if gain_weather > gain_temp:\n",
    "    print(\"Fitur root adalah Cuaca\")\n",
    "else:\n",
    "    print(\"Fitur root adalah Suhu\")\n"
   ]
  },
  {
   "cell_type": "code",
   "execution_count": null,
   "id": "969e4327-c921-4c2f-8548-0d394aba20cd",
   "metadata": {},
   "outputs": [],
   "source": []
  }
 ],
 "metadata": {
  "kernelspec": {
   "display_name": "Python 3 (ipykernel)",
   "language": "python",
   "name": "python3"
  },
  "language_info": {
   "codemirror_mode": {
    "name": "ipython",
    "version": 3
   },
   "file_extension": ".py",
   "mimetype": "text/x-python",
   "name": "python",
   "nbconvert_exporter": "python",
   "pygments_lexer": "ipython3",
   "version": "3.12.4"
  }
 },
 "nbformat": 4,
 "nbformat_minor": 5
}
