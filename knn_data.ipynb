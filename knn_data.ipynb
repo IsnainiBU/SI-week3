{
 "cells": [
  {
   "cell_type": "code",
   "execution_count": 2,
   "id": "46ddab5f-ccd7-4312-88c3-ed165e6f8b3d",
   "metadata": {},
   "outputs": [
    {
     "name": "stdout",
     "output_type": "stream",
     "text": [
      "Data yang dibaca dari file Excel:\n",
      "   No  Umur  Pendapatan (juta) Beli Produk\n",
      "0   1    22                 45       Tidak\n",
      "1   2    23                 46       Tidak\n",
      "2   3    27                 52          Ya\n",
      "3   4    21                 40       Tidak\n",
      "4   5    24                 47          Ya\n",
      "5   6    30                 54          Ya\n",
      "6   7    25                 43       Tidak\n",
      "7   8    29                 49          Ya\n",
      "8   9    26                 53          Ya\n",
      "9  10    20                 41       Tidak\n"
     ]
    }
   ],
   "source": [
    "import pandas as pd\n",
    "import numpy as np\n",
    "\n",
    "# Membaca data dari file Excel\n",
    "data = pd.read_excel('knn_data.xlsx')\n",
    "print(\"Data yang dibaca dari file Excel:\")\n",
    "print(data)\n"
   ]
  },
  {
   "cell_type": "code",
   "execution_count": 4,
   "id": "8b00437d-cdaf-4552-9ec5-6f0514806c5d",
   "metadata": {},
   "outputs": [],
   "source": [
    "# Menentukan data baru\n",
    "umur_baru = 25\n",
    "pendapatan_baru = 48"
   ]
  },
  {
   "cell_type": "code",
   "execution_count": 5,
   "id": "6c5532a8-7849-4a3c-95fb-ed02087a5768",
   "metadata": {},
   "outputs": [
    {
     "name": "stdout",
     "output_type": "stream",
     "text": [
      "\n",
      "Jarak Euclidean untuk setiap data:\n",
      "   Umur  Pendapatan (juta)     Jarak\n",
      "0    22                 45  4.242641\n",
      "1    23                 46  2.828427\n",
      "2    27                 52  4.472136\n",
      "3    21                 40  8.944272\n",
      "4    24                 47  1.414214\n",
      "5    30                 54  7.810250\n",
      "6    25                 43  5.000000\n",
      "7    29                 49  4.123106\n",
      "8    26                 53  5.099020\n",
      "9    20                 41  8.602325\n"
     ]
    }
   ],
   "source": [
    "# Fungsi untuk menghitung jarak Euclidean\n",
    "def euclidean_distance(row):\n",
    "    return np.sqrt((row['Umur'] - umur_baru) ** 2 + (row['Pendapatan (juta)'] - pendapatan_baru) ** 2)\n",
    "\n",
    "# Menghitung jarak untuk setiap data\n",
    "data['Jarak'] = data.apply(euclidean_distance, axis=1)\n",
    "print(\"\\nJarak Euclidean untuk setiap data:\")\n",
    "print(data[['Umur', 'Pendapatan (juta)', 'Jarak']])\n"
   ]
  },
  {
   "cell_type": "code",
   "execution_count": 6,
   "id": "f8e3fde2-cf5a-430f-bde0-8c443c05983a",
   "metadata": {},
   "outputs": [
    {
     "name": "stdout",
     "output_type": "stream",
     "text": [
      "\n",
      "Data diurutkan berdasarkan jarak terdekat:\n",
      "   Umur  Pendapatan (juta)     Jarak Beli Produk\n",
      "4    24                 47  1.414214          Ya\n",
      "1    23                 46  2.828427       Tidak\n",
      "7    29                 49  4.123106          Ya\n",
      "0    22                 45  4.242641       Tidak\n",
      "2    27                 52  4.472136          Ya\n",
      "6    25                 43  5.000000       Tidak\n",
      "8    26                 53  5.099020          Ya\n",
      "5    30                 54  7.810250          Ya\n",
      "9    20                 41  8.602325       Tidak\n",
      "3    21                 40  8.944272       Tidak\n"
     ]
    }
   ],
   "source": [
    "# Mengurutkan berdasarkan jarak terdekat\n",
    "data_sorted = data.sort_values(by='Jarak')\n",
    "print(\"\\nData diurutkan berdasarkan jarak terdekat:\")\n",
    "print(data_sorted[['Umur', 'Pendapatan (juta)', 'Jarak', 'Beli Produk']])\n"
   ]
  },
  {
   "cell_type": "code",
   "execution_count": 7,
   "id": "e8c62d8b-fdbf-4fa8-9cd1-1e8e578c2907",
   "metadata": {},
   "outputs": [
    {
     "name": "stdout",
     "output_type": "stream",
     "text": [
      "\n",
      "3 Tetangga terdekat:\n",
      "   Umur  Pendapatan (juta)     Jarak Beli Produk\n",
      "4    24                 47  1.414214          Ya\n",
      "1    23                 46  2.828427       Tidak\n",
      "7    29                 49  4.123106          Ya\n"
     ]
    }
   ],
   "source": [
    "# Ambil 3 tetangga terdekat\n",
    "k = 3\n",
    "neighbors = data_sorted.head(k)\n",
    "print(f\"\\n{3} Tetangga terdekat:\")\n",
    "print(neighbors[['Umur', 'Pendapatan (juta)', 'Jarak', 'Beli Produk']])\n"
   ]
  },
  {
   "cell_type": "code",
   "execution_count": 8,
   "id": "2b8b13c1-eb65-4cbe-9311-1548e476f0e3",
   "metadata": {},
   "outputs": [
    {
     "name": "stdout",
     "output_type": "stream",
     "text": [
      "\n",
      "Prediksi: Ya\n"
     ]
    }
   ],
   "source": [
    "# Tentukan mayoritas kelas (Beli Produk) dari tetangga terdekat\n",
    "prediction = neighbors['Beli Produk'].value_counts().idxmax()\n",
    "print(f\"\\nPrediksi: {prediction}\")\n"
   ]
  },
  {
   "cell_type": "code",
   "execution_count": null,
   "id": "0f9c391f-ffdb-4cdc-a927-9d7ec17b87bd",
   "metadata": {},
   "outputs": [],
   "source": []
  }
 ],
 "metadata": {
  "kernelspec": {
   "display_name": "Python 3 (ipykernel)",
   "language": "python",
   "name": "python3"
  },
  "language_info": {
   "codemirror_mode": {
    "name": "ipython",
    "version": 3
   },
   "file_extension": ".py",
   "mimetype": "text/x-python",
   "name": "python",
   "nbconvert_exporter": "python",
   "pygments_lexer": "ipython3",
   "version": "3.12.4"
  }
 },
 "nbformat": 4,
 "nbformat_minor": 5
}
