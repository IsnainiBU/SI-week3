{
 "cells": [
  {
   "cell_type": "code",
   "execution_count": 2,
   "id": "b5e9f956-e7f7-4f03-9b60-a0d8f3eb0e68",
   "metadata": {},
   "outputs": [
    {
     "name": "stdout",
     "output_type": "stream",
     "text": [
      "Data yang dibaca dari file Excel:\n",
      "   No Pendidikan Pengalaman Kerja Keahlian Pemrograman Diterima Bekerja\n",
      "0   1    Sarjana          5 tahun               Python               Ya\n",
      "1   2     Master          7 tahun                    R               Ya\n",
      "2   3    Sarjana          2 tahun               Python            Tidak\n",
      "3   4     Master          3 tahun               Python               Ya\n",
      "4   5    Sarjana          3 tahun                    R            Tidak\n",
      "5   6    Sarjana          4 tahun               Python               Ya\n",
      "6   7     Master          2 tahun                    R            Tidak\n",
      "7   8    Sarjana          7 tahun               Python               Ya\n",
      "8   9    Sarjana          5 tahun                    R            Tidak\n",
      "9  10     Master          4 tahun               Python               Ya\n"
     ]
    }
   ],
   "source": [
    "import pandas as pd\n",
    "data = pd.read_excel('data_pekerjaan.xlsx')\n",
    "print(\"Data yang dibaca dari file Excel:\")\n",
    "print(data)"
   ]
  },
  {
   "cell_type": "code",
   "execution_count": 3,
   "id": "649f06cb-25a6-4ded-93a2-8433da6a7b76",
   "metadata": {},
   "outputs": [
    {
     "name": "stdout",
     "output_type": "stream",
     "text": [
      "Jumlah total data: 10\n"
     ]
    }
   ],
   "source": [
    "total_data = len(data)\n",
    "print(f\"Jumlah total data: {total_data}\")"
   ]
  },
  {
   "cell_type": "code",
   "execution_count": 4,
   "id": "d1a43d38-ed0f-4639-9b8c-66faa72d70c4",
   "metadata": {},
   "outputs": [
    {
     "name": "stdout",
     "output_type": "stream",
     "text": [
      "Jumlah kelas 'Diterima Bekerja':\n",
      "{'Ya': 6, 'Tidak': 4}\n"
     ]
    }
   ],
   "source": [
    "class_counts = data['Diterima Bekerja'].value_counts().to_dict()\n",
    "print(\"Jumlah kelas 'Diterima Bekerja':\")\n",
    "print(class_counts)"
   ]
  },
  {
   "cell_type": "code",
   "execution_count": 7,
   "id": "911b1ed0-4613-4019-b0ba-9ab9003660c9",
   "metadata": {},
   "outputs": [
    {
     "name": "stdout",
     "output_type": "stream",
     "text": [
      "Fitur berdasarkan kelas:\n",
      "{'Pendidikan': {'Ya': {'Sarjana': 3, 'Master': 3}, 'Tidak': {'Sarjana': 3, 'Master': 1}}, 'Pengalaman Kerja': {'Ya': {'7 tahun': 2, '4 tahun': 2, '5 tahun': 1, '3 tahun': 1}, 'Tidak': {'2 tahun': 2, '3 tahun': 1, '5 tahun': 1}}, 'Keahlian Pemrograman': {'Ya': {'Python': 5, 'R': 1}, 'Tidak': {'R': 3, 'Python': 1}}}\n"
     ]
    }
   ],
   "source": [
    "feature_counts = {\n",
    "    \"Pendidikan\": {\n",
    "        \"Ya\": data[data['Diterima Bekerja'] == 'Ya']['Pendidikan'].value_counts().to_dict(),\n",
    "        \"Tidak\": data[data['Diterima Bekerja'] == 'Tidak']['Pendidikan'].value_counts().to_dict()\n",
    "    },\n",
    "    \"Pengalaman Kerja\": {\n",
    "        \"Ya\": data[data['Diterima Bekerja'] == 'Ya']['Pengalaman Kerja'].value_counts().to_dict(),\n",
    "        \"Tidak\": data[data['Diterima Bekerja'] == 'Tidak']['Pengalaman Kerja'].value_counts().to_dict()\n",
    "    },\n",
    "    \"Keahlian Pemrograman\": {\n",
    "        \"Ya\": data[data['Diterima Bekerja'] == 'Ya']['Keahlian Pemrograman'].value_counts().to_dict(),\n",
    "        \"Tidak\": data[data['Diterima Bekerja'] == 'Tidak']['Keahlian Pemrograman'].value_counts().to_dict()\n",
    "    }\n",
    "}\n",
    "\n",
    "print(\"Fitur berdasarkan kelas:\")\n",
    "print(feature_counts)"
   ]
  },
  {
   "cell_type": "code",
   "execution_count": 8,
   "id": "6ac8ce13-b4ce-4df0-9176-4b01aaa8b6de",
   "metadata": {},
   "outputs": [
    {
     "name": "stdout",
     "output_type": "stream",
     "text": [
      "Probabilitas P(Ya): 0.6000\n",
      "Probabilitas P(Tidak): 0.4000\n"
     ]
    }
   ],
   "source": [
    "P_Ya = class_counts['Ya'] / total_data\n",
    "P_Tidak = class_counts['Tidak'] / total_data\n",
    "print(f\"Probabilitas P(Ya): {P_Ya:.4f}\")\n",
    "print(f\"Probabilitas P(Tidak): {P_Tidak:.4f}\")"
   ]
  },
  {
   "cell_type": "code",
   "execution_count": 11,
   "id": "c1dc719d-b099-4ed8-b8c7-7757308c1e9e",
   "metadata": {},
   "outputs": [
    {
     "name": "stdout",
     "output_type": "stream",
     "text": [
      "P(Sarjana | Ya): 0.5000\n",
      "P(Sarjana | Tidak): 0.7500\n",
      "P(3 tahun | Ya): 0.1667\n",
      "P(3 tahun | Tidak): 0.2500\n",
      "P(Python | Ya): 0.8333\n",
      "P(Python | Tidak): 0.2500\n"
     ]
    }
   ],
   "source": [
    "P_Sarjana_given_Ya = feature_counts[\"Pendidikan\"][\"Ya\"].get(\"Sarjana\", 0) / class_counts['Ya']\n",
    "P_Sarjana_given_Tidak = feature_counts[\"Pendidikan\"][\"Tidak\"].get(\"Sarjana\", 0) / class_counts['Tidak']\n",
    "\n",
    "P_3tahun_given_Ya = feature_counts[\"Pengalaman Kerja\"][\"Ya\"].get(\"3 tahun\", 0) / class_counts['Ya']\n",
    "P_3tahun_given_Tidak = feature_counts[\"Pengalaman Kerja\"][\"Tidak\"].get(\"3 tahun\", 0) / class_counts['Tidak']\n",
    "\n",
    "P_Python_given_Ya = feature_counts[\"Keahlian Pemrograman\"][\"Ya\"].get(\"Python\", 0) / class_counts['Ya']\n",
    "P_Python_given_Tidak = feature_counts[\"Keahlian Pemrograman\"][\"Tidak\"].get(\"Python\", 0) / class_counts['Tidak']\n",
    "\n",
    "print(f\"P(Sarjana | Ya): {P_Sarjana_given_Ya:.4f}\")\n",
    "print(f\"P(Sarjana | Tidak): {P_Sarjana_given_Tidak:.4f}\")\n",
    "print(f\"P(3 tahun | Ya): {P_3tahun_given_Ya:.4f}\")\n",
    "print(f\"P(3 tahun | Tidak): {P_3tahun_given_Tidak:.4f}\")\n",
    "print(f\"P(Python | Ya): {P_Python_given_Ya:.4f}\")\n",
    "print(f\"P(Python | Tidak): {P_Python_given_Tidak:.4f}\")"
   ]
  },
  {
   "cell_type": "code",
   "execution_count": 13,
   "id": "4397f5e7-43a5-46ab-ae7c-331b5da8736f",
   "metadata": {},
   "outputs": [
    {
     "name": "stdout",
     "output_type": "stream",
     "text": [
      "P(YA | Sarjana, 3 tahun, Python) = 0.041667\n",
      "P(Tidak | Sarjana, 3 tahun, Python) = 0.018750\n",
      "\n",
      "\n",
      "Prediksi: Diterima Bekerja (Ya)\n"
     ]
    }
   ],
   "source": [
    "P_Ya_given_features = P_Ya * P_Sarjana_given_Ya * P_3tahun_given_Ya * P_Python_given_Ya\n",
    "P_Tidak_given_features = P_Tidak * P_Sarjana_given_Tidak * P_3tahun_given_Tidak * P_Python_given_Tidak\n",
    "\n",
    "print(f\"P(YA | Sarjana, 3 tahun, Python) = {P_Ya_given_features:.6f}\")\n",
    "print(f\"P(Tidak | Sarjana, 3 tahun, Python) = {P_Tidak_given_features:.6f}\")\n",
    "print(\"\\n\")\n",
    "\n",
    "if P_Ya_given_features > P_Tidak_given_features:\n",
    "    print(\"Prediksi: Diterima Bekerja (Ya)\")\n",
    "else:\n",
    "    print(\"Prediksi: Tidak Diterima Bekerja\")"
   ]
  },
  {
   "cell_type": "code",
   "execution_count": null,
   "id": "f9cdca8e-5a1c-497d-905b-85cab9efa2db",
   "metadata": {},
   "outputs": [],
   "source": []
  }
 ],
 "metadata": {
  "kernelspec": {
   "display_name": "Python 3 (ipykernel)",
   "language": "python",
   "name": "python3"
  },
  "language_info": {
   "codemirror_mode": {
    "name": "ipython",
    "version": 3
   },
   "file_extension": ".py",
   "mimetype": "text/x-python",
   "name": "python",
   "nbconvert_exporter": "python",
   "pygments_lexer": "ipython3",
   "version": "3.12.4"
  }
 },
 "nbformat": 4,
 "nbformat_minor": 5
}
